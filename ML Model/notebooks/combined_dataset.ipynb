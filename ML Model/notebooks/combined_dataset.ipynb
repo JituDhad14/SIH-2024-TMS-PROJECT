{
 "cells": [
  {
   "cell_type": "code",
   "execution_count": null,
   "metadata": {},
   "outputs": [
    {
     "name": "stdout",
     "output_type": "stream",
     "text": [
      "  Direction Traffic Volume\n",
      "0     North          Frame\n",
      "1     South          Frame\n",
      "2      East          Frame\n",
      "3      West          Frame\n"
     ]
    }
   ],
   "source": [
    "import pandas as pd\n",
    "\n",
    "# File names\n",
    "files = ['../outputs/metrics.csv', '../outputs/metrics2.csv', '../outputs/metrics3.csv', '../outputs/metrics4.csv']\n",
    "directions = ['North', 'South', 'East', 'West']\n",
    "\n",
    "# Combine into a single dataset\n",
    "data = []\n",
    "for i, file in enumerate(files):\n",
    "    df = pd.read_csv(file, header=None)  # Assuming no headers in the files\n",
    "    traffic_volume = df.iloc[0, 0]  # Get the first value (traffic volume)\n",
    "    data.append({'Direction': directions[i], 'Traffic Volume': traffic_volume})\n",
    "\n",
    "# Create a unified DataFrame\n",
    "combined_data = pd.DataFrame(data)\n",
    "\n",
    "# Save or display the combined dataset\n",
    "print(combined_data)\n",
    "combined_data.to_csv('../outputs/combined_traffic_data.csv', index=False)\n"
   ]
  },
  {
   "cell_type": "code",
   "execution_count": null,
   "metadata": {},
   "outputs": [
    {
     "name": "stdout",
     "output_type": "stream",
     "text": [
      "  Direction  Traffic Volume\n",
      "0     North           18.36\n",
      "1     South           24.60\n",
      "2      East           26.16\n",
      "3      West           25.04\n"
     ]
    }
   ],
   "source": [
    "import json\n",
    "import pandas as pd\n",
    "\n",
    "# Load the JSON file\n",
    "with open('../outputs/traffic_data.json', 'r') as file:\n",
    "    json_data = json.load(file)\n",
    "\n",
    "# Map the keys to directions\n",
    "directions = ['North', 'South', 'East', 'West']\n",
    "data = [{'Direction': directions[i], 'Traffic Volume': value} for i, value in enumerate(json_data.values())]\n",
    "\n",
    "# Create a DataFrame\n",
    "combined_data = pd.DataFrame(data)\n",
    "\n",
    "# Save or display the combined dataset\n",
    "print(combined_data)\n",
    "combined_data.to_csv('../outputs/combined_traffic_data.csv', index=False)\n"
   ]
  },
  {
   "cell_type": "code",
   "execution_count": null,
   "metadata": {},
   "outputs": [
    {
     "name": "stdout",
     "output_type": "stream",
     "text": [
      "  Direction  Traffic Volume  Average_Speed_kmph\n",
      "0     North           18.36           43.182459\n",
      "1     South           24.60           42.988321\n",
      "2      East           26.16           21.328802\n",
      "3      West           25.04           32.506692\n"
     ]
    }
   ],
   "source": [
    "import pandas as pd\n",
    "\n",
    "# File names of your datasets\n",
    "files = ['../outputs/metrics.csv', '../outputs/metrics2.csv', '../outputs/metrics3.csv', '../outputs/metrics4.csv']\n",
    "\n",
    "\n",
    "# List to store the averages of 'Average_Speed_kmph'\n",
    "average_speeds = {}\n",
    "\n",
    "# Calculate averages for 'Average_Speed_kmph' in each dataset\n",
    "for file in files:\n",
    "    # Load each dataset\n",
    "    df = pd.read_csv(file)\n",
    "    \n",
    "    # Ensure the column exists and calculate the average\n",
    "    if 'Average_Speed_kmph' in df.columns:\n",
    "        average = df['Average_Speed_kmph'].mean()\n",
    "        average_speeds[file] = average\n",
    "\n",
    "# Directions corresponding to the datasets\n",
    "directions = ['North', 'South', 'East', 'West']\n",
    "\n",
    "# Load the existing combined dataset\n",
    "combined_data = pd.read_csv('../outputs/combined_traffic_data.csv')\n",
    "\n",
    "# Add a new column 'Average_Speed_kmph' and fill with the calculated averages\n",
    "for i, direction in enumerate(directions):\n",
    "    # Access the average speed corresponding to each dataset and direction\n",
    "    avg_speed = list(average_speeds.values())[i]\n",
    "    \n",
    "    # Update the 'Average_Speed_kmph' column in the combined data\n",
    "    combined_data.loc[combined_data['Direction'] == direction, 'Average_Speed_kmph'] = avg_speed\n",
    "\n",
    "# Save the updated combined dataset\n",
    "combined_data.to_csv('../outputs/combined_traffic_data.csv', index=False)\n",
    "\n",
    "# Display the updated dataset\n",
    "print(combined_data)\n"
   ]
  },
  {
   "cell_type": "code",
   "execution_count": null,
   "metadata": {},
   "outputs": [
    {
     "name": "stdout",
     "output_type": "stream",
     "text": [
      "  Direction  Traffic Volume  Average_Speed_kmph  Queue_Length_meters\n",
      "0     North           18.36           43.182459            21.289970\n",
      "1     South           24.60           42.988321            16.789115\n",
      "2      East           26.16           21.328802            14.046506\n",
      "3      West           25.04           32.506692            14.391170\n"
     ]
    }
   ],
   "source": [
    "import pandas as pd\n",
    "\n",
    "# File names of your datasets\n",
    "files = ['../outputs/metrics.csv', '../outputs/metrics2.csv', '../outputs/metrics3.csv', '../outputs/metrics4.csv']\n",
    "\n",
    "\n",
    "# List to store the averages of 'Queue_Length_meters'\n",
    "queue_lengths = {}\n",
    "\n",
    "# Calculate averages for 'Queue_Length_meters' in each dataset\n",
    "for file in files:\n",
    "    # Load each dataset\n",
    "    df = pd.read_csv(file)\n",
    "    \n",
    "    # Ensure the column exists and calculate the average\n",
    "    if 'Queue_Length_meters' in df.columns:\n",
    "        queue_length = df['Queue_Length_meters'].mean()\n",
    "        queue_lengths[file] = queue_length\n",
    "\n",
    "# Directions corresponding to the datasets\n",
    "directions = ['North', 'South', 'East', 'West']\n",
    "\n",
    "# Load the existing combined dataset\n",
    "combined_data = pd.read_csv('../outputs/combined_traffic_data.csv')\n",
    "\n",
    "# Add a new column 'Queue_Length_meters' and fill with the calculated averages\n",
    "for i, direction in enumerate(directions):\n",
    "    # Access the average queue length corresponding to each dataset and direction\n",
    "    avg_queue_length = list(queue_lengths.values())[i]\n",
    "    \n",
    "    # Update the 'Queue_Length_meters' column in the combined data\n",
    "    combined_data.loc[combined_data['Direction'] == direction, 'Queue_Length_meters'] = avg_queue_length\n",
    "\n",
    "# Save the updated combined dataset\n",
    "combined_data.to_csv('../outputs/combined_traffic_data.csv', index=False)\n",
    "\n",
    "# Display the updated dataset\n",
    "print(combined_data)\n"
   ]
  },
  {
   "cell_type": "code",
   "execution_count": null,
   "metadata": {},
   "outputs": [
    {
     "name": "stdout",
     "output_type": "stream",
     "text": [
      "  Direction  Traffic Volume  Average_Speed_kmph  Queue_Length_meters  \\\n",
      "0     North           18.36           43.182459            21.289970   \n",
      "1     South           24.60           42.988321            16.789115   \n",
      "2      East           26.16           21.328802            14.046506   \n",
      "3      West           25.04           32.506692            14.391170   \n",
      "\n",
      "   Traffic_Density_vehicles_per_meter  \n",
      "0                            0.792939  \n",
      "1                            1.470260  \n",
      "2                            1.863468  \n",
      "3                            1.772604  \n"
     ]
    }
   ],
   "source": [
    "import pandas as pd\n",
    "\n",
    "# File names of your datasets\n",
    "files = ['../outputs/metrics.csv', '../outputs/metrics2.csv', '../outputs/metrics3.csv', '../outputs/metrics4.csv']\n",
    "\n",
    "\n",
    "# List to store the averages of 'Traffic_Density_vehicles_per_meter'\n",
    "traffic_density = {}\n",
    "\n",
    "# Calculate averages for 'Traffic_Density_vehicles_per_meter' in each dataset\n",
    "for file in files:\n",
    "    # Load each dataset\n",
    "    df = pd.read_csv(file)\n",
    "    \n",
    "    # Ensure the column exists and calculate the average\n",
    "    if 'Traffic_Density_vehicles_per_meter' in df.columns:\n",
    "        density = df['Traffic_Density_vehicles_per_meter'].mean()\n",
    "        traffic_density[file] = density\n",
    "\n",
    "# Directions corresponding to the datasets\n",
    "directions = ['North', 'South', 'East', 'West']\n",
    "\n",
    "# Load the existing combined dataset\n",
    "combined_data = pd.read_csv('../outputs/combined_traffic_data.csv')\n",
    "\n",
    "# Add a new column 'Traffic_Density_vehicles_per_meter' and fill with the calculated averages\n",
    "for i, direction in enumerate(directions):\n",
    "    # Access the average traffic density corresponding to each dataset and direction\n",
    "    avg_density = list(traffic_density.values())[i]\n",
    "    \n",
    "    # Update the 'Traffic_Density_vehicles_per_meter' column in the combined data\n",
    "    combined_data.loc[combined_data['Direction'] == direction, 'Traffic_Density_vehicles_per_meter'] = avg_density\n",
    "\n",
    "# Save the updated combined dataset\n",
    "combined_data.to_csv('../outputs/combined_traffic_data.csv', index=False)\n",
    "\n",
    "# Display the updated dataset\n",
    "print(combined_data)\n"
   ]
  }
 ],
 "metadata": {
  "kernelspec": {
   "display_name": "Python 3",
   "language": "python",
   "name": "python3"
  },
  "language_info": {
   "codemirror_mode": {
    "name": "ipython",
    "version": 3
   },
   "file_extension": ".py",
   "mimetype": "text/x-python",
   "name": "python",
   "nbconvert_exporter": "python",
   "pygments_lexer": "ipython3",
   "version": "3.12.2"
  }
 },
 "nbformat": 4,
 "nbformat_minor": 2
}
